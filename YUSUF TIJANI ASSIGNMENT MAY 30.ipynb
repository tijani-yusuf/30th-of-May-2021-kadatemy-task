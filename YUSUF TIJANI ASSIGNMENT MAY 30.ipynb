{
 "cells": [
  {
   "cell_type": "code",
   "execution_count": 2,
   "metadata": {},
   "outputs": [],
   "source": [
    "def bmi(weight, height): #\n",
    "    \"Function that calculates the Body Mass Index of a person\" #\n",
    "    BMI = weight/(height*height)\n",
    "    return BMI #"
   ]
  },
  {
   "cell_type": "code",
   "execution_count": 3,
   "metadata": {},
   "outputs": [
    {
     "name": "stdout",
     "output_type": "stream",
     "text": [
      "Input the requested details to calculate your BMI\n",
      "\n",
      "Age\n",
      "23\n",
      "\n",
      "Weight in kg:\n",
      "50\n",
      "\n",
      "Height in m:\n",
      "1.5\n",
      "\n",
      "Your BMI is: 22.22222222222222 and it shows you are healthy\n"
     ]
    }
   ],
   "source": [
    "print(\"Input the requested details to calculate your BMI\")\n",
    "\n",
    "print(\"\\nAge\")\n",
    "age = int(input()) # inseert the data type\n",
    "\n",
    "\n",
    "print(\"\\nWeight in kg:\")\n",
    "weight = float(input()) # insert the data type\n",
    "\n",
    "print(\"\\nHeight in m:\")\n",
    "height = float(input()) # insert the data type\n",
    "\n",
    "# write a condition that validates the age and calls the function\n",
    "\n",
    "if age >12 and age <70: # insert your conditional age bracket\n",
    "    result = bmi(weight, height) # insert your function\n",
    "    \n",
    "    # Let the user know their BMI and also know if it's healthy or not\n",
    "    if result > 25: # inseert a condition that can classify this\n",
    "        print(f\"\\nYour BMI is: {result} and it shows you are overweight\")\n",
    "    elif result < 18:\n",
    "        print(f\"\\nYour BMI is: {result} and it shows you are underweight\")\n",
    "    else:\n",
    "        print(f\"\\nYour BMI is: {result} and it shows you are healthy\")\n",
    "        \n",
    "        "
   ]
  },
  {
   "cell_type": "code",
   "execution_count": 4,
   "metadata": {},
   "outputs": [
    {
     "name": "stdout",
     "output_type": "stream",
     "text": [
      "Input the requested details to calculate your BMI\n",
      "\n",
      "Age\n",
      "40\n",
      "\n",
      "Weight in kg:\n",
      "120\n",
      "\n",
      "Height in m:\n",
      "1.7\n",
      "\n",
      "Your BMI is: 41.52249134948097 and it shows you are overweight\n"
     ]
    }
   ],
   "source": [
    "print(\"Input the requested details to calculate your BMI\")\n",
    "\n",
    "print(\"\\nAge\")\n",
    "age = int(input()) # inseert the data type\n",
    "\n",
    "\n",
    "print(\"\\nWeight in kg:\")\n",
    "weight = float(input()) # insert the data type\n",
    "\n",
    "print(\"\\nHeight in m:\")\n",
    "height = float(input()) # insert the data type\n",
    "\n",
    "# write a condition that validates the age and calls the function\n",
    "\n",
    "if age >12 and age <70: # insert your conditional age bracket\n",
    "    result = bmi(weight, height) # insert your function\n",
    "    \n",
    "    # Let the user know their BMI and also know if it's healthy or not\n",
    "    if result > 25: # inseert a condition that can classify this\n",
    "        print(f\"\\nYour BMI is: {result} and it shows you are overweight\")\n",
    "    elif result < 18:\n",
    "        print(f\"\\nYour BMI is: {result} and it shows you are underweight\")\n",
    "    else:\n",
    "        print(f\"\\nYour BMI is: {result} and it shows you are healthy\")\n",
    "        "
   ]
  },
  {
   "cell_type": "code",
   "execution_count": 5,
   "metadata": {},
   "outputs": [
    {
     "name": "stdout",
     "output_type": "stream",
     "text": [
      "Input the requested details to calculate your BMI\n",
      "\n",
      "Age\n",
      "27\n",
      "\n",
      "Weight in kg:\n",
      "55\n",
      "\n",
      "Height in m:\n",
      "1.7\n",
      "\n",
      "Your BMI is: 19.031141868512112 and it shows you are healthy\n"
     ]
    }
   ],
   "source": [
    "print(\"Input the requested details to calculate your BMI\")\n",
    "\n",
    "print(\"\\nAge\")\n",
    "age = int(input()) # inseert the data type\n",
    "\n",
    "\n",
    "print(\"\\nWeight in kg:\")\n",
    "weight = float(input()) # insert the data type\n",
    "\n",
    "print(\"\\nHeight in m:\")\n",
    "height = float(input()) # insert the data type\n",
    "\n",
    "# write a condition that validates the age and calls the function\n",
    "\n",
    "if age >12 and age <70: # insert your conditional age bracket\n",
    "    result = bmi(weight, height) # insert your function\n",
    "    \n",
    "    # Let the user know their BMI and also know if it's healthy or not\n",
    "    if result > 25: # inseert a condition that can classify this\n",
    "        print(f\"\\nYour BMI is: {result} and it shows you are overweight\")\n",
    "    elif result < 18:\n",
    "        print(f\"\\nYour BMI is: {result} and it shows you are underweight\")\n",
    "    else:\n",
    "        print(f\"\\nYour BMI is: {result} and it shows you are healthy\")\n",
    "        "
   ]
  },
  {
   "cell_type": "code",
   "execution_count": 6,
   "metadata": {},
   "outputs": [
    {
     "name": "stdout",
     "output_type": "stream",
     "text": [
      "Input the requested details to calculate your BMI\n",
      "\n",
      "Age\n",
      "40\n",
      "\n",
      "Weight in kg:\n",
      "45\n",
      "\n",
      "Height in m:\n",
      "1.8\n",
      "\n",
      "Your BMI is: 13.888888888888888 and it shows you are underweight\n"
     ]
    }
   ],
   "source": [
    "print(\"Input the requested details to calculate your BMI\")\n",
    "\n",
    "print(\"\\nAge\")\n",
    "age = int(input()) # inseert the data type\n",
    "\n",
    "\n",
    "print(\"\\nWeight in kg:\")\n",
    "weight = float(input()) # insert the data type\n",
    "\n",
    "print(\"\\nHeight in m:\")\n",
    "height = float(input()) # insert the data type\n",
    "\n",
    "# write a condition that validates the age and calls the function\n",
    "\n",
    "if age >12 and age <70: # insert your conditional age bracket\n",
    "    result = bmi(weight, height) # insert your function\n",
    "    \n",
    "    # Let the user know their BMI and also know if it's healthy or not\n",
    "    if result > 25: # inseert a condition that can classify this\n",
    "        print(f\"\\nYour BMI is: {result} and it shows you are overweight\")\n",
    "    elif result < 18:\n",
    "        print(f\"\\nYour BMI is: {result} and it shows you are underweight\")\n",
    "    else:\n",
    "        print(f\"\\nYour BMI is: {result} and it shows you are healthy\")\n",
    "        "
   ]
  },
  {
   "cell_type": "code",
   "execution_count": 9,
   "metadata": {},
   "outputs": [
    {
     "name": "stdout",
     "output_type": "stream",
     "text": [
      "Input the requested details to calculate your BMI\n",
      "\n",
      "Age\n",
      "90\n",
      "\n",
      "Weight in kg:\n",
      "78\n",
      "\n",
      "Height in m:\n",
      "1.67\n",
      "\n",
      "The age should be between 13 and 69\n"
     ]
    }
   ],
   "source": [
    "print(\"Input the requested details to calculate your BMI\")\n",
    "\n",
    "print(\"\\nAge\")\n",
    "age = int(input()) # inseert the data type\n",
    "\n",
    "\n",
    "print(\"\\nWeight in kg:\")\n",
    "weight = float(input()) # insert the data type\n",
    "\n",
    "print(\"\\nHeight in m:\")\n",
    "height = float(input()) # insert the data type\n",
    "\n",
    "# write a condition that validates the age and calls the function\n",
    "\n",
    "if age >12 and age <70: # insert your conditional age bracket\n",
    "    result = bmi(weight, height) # insert your function\n",
    "    \n",
    "    # Let the user know their BMI and also know if it's healthy or not\n",
    "    if result > 25: # inseert a condition that can classify this\n",
    "        print(f\"\\nYour BMI is: {result} and it shows you are overweight\")\n",
    "    elif result < 18:\n",
    "        print(f\"\\nYour BMI is: {result} and it shows you are underweight\")\n",
    "    else:\n",
    "        print(f\"\\nYour BMI is: {result} and it shows you are healthy\")\n",
    "        \n",
    "else:\n",
    "        print(\"\\nThe age should be between 13 and 69\")\n",
    "        "
   ]
  },
  {
   "cell_type": "code",
   "execution_count": 12,
   "metadata": {},
   "outputs": [
    {
     "ename": "IndentationError",
     "evalue": "unindent does not match any outer indentation level (<tokenize>, line 21)",
     "output_type": "error",
     "traceback": [
      "\u001b[1;36m  File \u001b[1;32m\"<tokenize>\"\u001b[1;36m, line \u001b[1;32m21\u001b[0m\n\u001b[1;33m    if result > 25: # inseert a condition that can classify this\u001b[0m\n\u001b[1;37m    ^\u001b[0m\n\u001b[1;31mIndentationError\u001b[0m\u001b[1;31m:\u001b[0m unindent does not match any outer indentation level\n"
     ]
    }
   ],
   "source": [
    "print(\"Input the requested details to calculate your BMI\")\n",
    "\n",
    "print(\"\\nAge\")\n",
    "age = int(input()) # inseert the data type\n",
    "\n",
    "\n",
    "print(\"\\nWeight in kg:\")\n",
    "weight = float(input()) # insert the data type\n",
    "\n",
    "print(\"\\nHeight in m:\")\n",
    "height = float(input()) # insert the data type\n",
    "\n",
    "# write a condition that validates the age and calls the function\n",
    "\n",
    "if age >12 and age <70: # insert your conditional age bracket\n",
    "    result = bmi(weight, height) # insert your function\n",
    "    \n",
    "    # Let the user know their BMI and also know if it's healthy or not\n",
    "if age < 12 and age >70:\n",
    "        print(f\"\\it does not work for your age\")\n",
    "    if result > 25: # inseert a condition that can classify this\n",
    "        print(f\"\\nYour BMI is: {result} and it shows you are overweight\")\n",
    "    elif result < 18:\n",
    "        print(f\"\\nYour BMI is: {result} and it shows you are underweight\")\n",
    "    else:\n",
    "        print(f\"\\nYour BMI is: {result} and it shows you are healthy\")\n",
    "        "
   ]
  },
  {
   "cell_type": "code",
   "execution_count": 13,
   "metadata": {},
   "outputs": [
    {
     "data": {
      "text/plain": [
       "['I',\n",
       " 'will',\n",
       " 'perform',\n",
       " 'all',\n",
       " 'my',\n",
       " 'outstanding',\n",
       " 'kadatemy',\n",
       " 'assignments',\n",
       " 'asap']"
      ]
     },
     "execution_count": 13,
     "metadata": {},
     "output_type": "execute_result"
    }
   ],
   "source": [
    "my_plan = \"I will perform all my outstanding kadatemy assignments asap\"\n",
    "my_plan.split() # split the sentence into words"
   ]
  },
  {
   "cell_type": "code",
   "execution_count": 14,
   "metadata": {},
   "outputs": [],
   "source": [
    "my_plan_in_words = my_plan.split()"
   ]
  },
  {
   "cell_type": "code",
   "execution_count": 16,
   "metadata": {},
   "outputs": [
    {
     "name": "stdout",
     "output_type": "stream",
     "text": [
      "outstanding\n"
     ]
    }
   ],
   "source": [
    "for i in range(1, len(my_plan_in_words)):\n",
    "    if i == 5:\n",
    "        print(my_plan_in_words[i])"
   ]
  },
  {
   "cell_type": "code",
   "execution_count": null,
   "metadata": {},
   "outputs": [],
   "source": []
  }
 ],
 "metadata": {
  "kernelspec": {
   "display_name": "Python 3",
   "language": "python",
   "name": "python3"
  },
  "language_info": {
   "codemirror_mode": {
    "name": "ipython",
    "version": 3
   },
   "file_extension": ".py",
   "mimetype": "text/x-python",
   "name": "python",
   "nbconvert_exporter": "python",
   "pygments_lexer": "ipython3",
   "version": "3.8.5"
  }
 },
 "nbformat": 4,
 "nbformat_minor": 4
}
